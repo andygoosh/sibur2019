{
  "nbformat": 4,
  "nbformat_minor": 0,
  "metadata": {
    "@webio": {
      "lastCommId": null,
      "lastKernelId": null
    },
    "kernelspec": {
      "display_name": "Python 3",
      "language": "python",
      "name": "python3"
    },
    "language_info": {
      "codemirror_mode": {
        "name": "ipython",
        "version": 3
      },
      "file_extension": ".py",
      "mimetype": "text/x-python",
      "name": "python",
      "nbconvert_exporter": "python",
      "pygments_lexer": "ipython3",
      "version": "3.6.5"
    },
    "nteract": {
      "version": "0.15.0"
    },
    "toc": {
      "base_numbering": 1,
      "nav_menu": {},
      "number_sections": true,
      "sideBar": true,
      "skip_h1_title": false,
      "title_cell": "Table of Contents",
      "title_sidebar": "Contents",
      "toc_cell": false,
      "toc_position": {},
      "toc_section_display": true,
      "toc_window_display": false
    },
    "colab": {
      "name": "Baseline_Rubber_(1).ipynb",
      "provenance": [],
      "collapsed_sections": []
    }
  },
  "cells": [
    {
      "cell_type": "code",
      "metadata": {
        "ExecuteTime": {
          "end_time": "2019-10-14T03:12:14.905228Z",
          "start_time": "2019-10-14T03:12:13.865229Z"
        },
        "id": "QyPKCz6Rbc-J",
        "colab_type": "code",
        "outputId": "2354bba6-1e03-4481-ce0f-2c5af6ab9430",
        "colab": {
          "base_uri": "https://localhost:8080/",
          "height": 34
        }
      },
      "source": [
        "%pylab inline\n",
        "plt.style.use(\"bmh\")"
      ],
      "execution_count": 0,
      "outputs": [
        {
          "output_type": "stream",
          "text": [
            "Populating the interactive namespace from numpy and matplotlib\n"
          ],
          "name": "stdout"
        }
      ]
    },
    {
      "cell_type": "code",
      "metadata": {
        "ExecuteTime": {
          "end_time": "2019-10-14T03:12:14.922137Z",
          "start_time": "2019-10-14T03:12:14.912361Z"
        },
        "id": "xUpX9K9gbc-R",
        "colab_type": "code",
        "colab": {}
      },
      "source": [
        "plt.rcParams[\"figure.figsize\"] = (6,6)"
      ],
      "execution_count": 0,
      "outputs": []
    },
    {
      "cell_type": "code",
      "metadata": {
        "ExecuteTime": {
          "end_time": "2019-10-14T03:12:15.712634Z",
          "start_time": "2019-10-14T03:12:14.930509Z"
        },
        "id": "UIMXs8Vgbc-T",
        "colab_type": "code",
        "colab": {}
      },
      "source": [
        "import numpy as np\n",
        "import pandas as pd"
      ],
      "execution_count": 0,
      "outputs": []
    },
    {
      "cell_type": "code",
      "metadata": {
        "ExecuteTime": {
          "end_time": "2019-10-14T03:12:15.735930Z",
          "start_time": "2019-10-14T03:12:15.716622Z"
        },
        "id": "fFG1MuJ6bc-W",
        "colab_type": "code",
        "outputId": "27f6657b-cb45-457d-97ca-5f0ea5915ad7",
        "colab": {
          "base_uri": "https://localhost:8080/",
          "height": 34
        }
      },
      "source": [
        "import tqdm\n",
        "import pathlib\n",
        "try:\n",
        "  # %tensorflow_version only exists in Colab.\n",
        "  %tensorflow_version 2.x\n",
        "except Exception:\n",
        "  pass\n",
        "  \n",
        "import tensorflow as tf\n",
        "from tensorflow import keras\n",
        "from tensorflow.keras import layers\n",
        "import random as rn\n"
      ],
      "execution_count": 0,
      "outputs": [
        {
          "output_type": "stream",
          "text": [
            "TensorFlow 2.x selected.\n"
          ],
          "name": "stdout"
        }
      ]
    },
    {
      "cell_type": "code",
      "metadata": {
        "ExecuteTime": {
          "end_time": "2019-10-14T03:12:16.769586Z",
          "start_time": "2019-10-14T03:12:15.740276Z"
        },
        "id": "EHQenqA1bc-Z",
        "colab_type": "code",
        "colab": {}
      },
      "source": [
        "from sklearn.linear_model import ElasticNet\n",
        "from sklearn.metrics import mean_absolute_error\n",
        "from sklearn.preprocessing import StandardScaler\n",
        "from sklearn.model_selection import ParameterGrid"
      ],
      "execution_count": 0,
      "outputs": []
    },
    {
      "cell_type": "code",
      "metadata": {
        "ExecuteTime": {
          "end_time": "2019-10-14T03:12:18.953220Z",
          "start_time": "2019-10-14T03:12:18.947393Z"
        },
        "id": "VgDaAEDFbc_b",
        "colab_type": "code",
        "colab": {}
      },
      "source": [
        "def mape(y_true, y_pred):\n",
        "    return np.mean(np.abs((y_pred-y_true)/y_true))\n",
        "\n",
        "def plot_history(history):\n",
        "  hist = pd.DataFrame(history.history)\n",
        "  hist['epoch'] = history.epoch\n",
        "\n",
        "  plt.figure()\n",
        "  plt.xlabel('Epoch')\n",
        "  plt.ylabel('Mean Abs Error')\n",
        "  plt.plot(hist['epoch'], hist['mae'],\n",
        "           label='Train Error')\n",
        "  plt.plot(hist['epoch'], hist['val_mae'],\n",
        "           label = 'Val Error')\n",
        "  #plt.ylim([0,0.8])\n",
        "  plt.legend()\n",
        "\n",
        "  plt.figure()\n",
        "  plt.xlabel('Epoch')\n",
        "  plt.ylabel('Mean Square Error')\n",
        "  plt.plot(hist['epoch'], hist['mse'],\n",
        "           label='Train Error')\n",
        "  plt.plot(hist['epoch'], hist['val_mse'],\n",
        "           label = 'Val Error')\n",
        "  #plt.ylim([0,0.8])\n",
        "  plt.legend()\n",
        "  plt.show()"
      ],
      "execution_count": 0,
      "outputs": []
    },
    {
      "cell_type": "code",
      "metadata": {
        "ExecuteTime": {
          "end_time": "2019-10-14T03:12:16.867300Z",
          "start_time": "2019-10-14T03:12:16.803728Z"
        },
        "id": "3oJyp9-9bc-l",
        "colab_type": "code",
        "colab": {}
      },
      "source": [
        "train_target = pd.read_csv('https://sibur.ai-community.com/files/uploads/ea60e971b41e70fece6f266e68a41488/rubber_target_train.csv', index_col=\"date\", parse_dates=[\"date\"],dtype=np.float32)\n",
        "test_target = pd.read_csv('https://sibur.ai-community.com/files/uploads/c0b27f1fc0ad165fc6c30cd3c7214468/rubber_test_timestamps.csv', index_col=\"date\", parse_dates=[\"date\"],dtype=np.float32)\n",
        "data = pd.read_csv('https://sibur.ai-community.com/files/uploads/bc4f721232fc48f676f524bd707bdc00/rubber_daily.csv', index_col=\"date\", parse_dates=[\"date\"],dtype=np.float32)"
      ],
      "execution_count": 0,
      "outputs": []
    },
    {
      "cell_type": "code",
      "metadata": {
        "ExecuteTime": {
          "end_time": "2019-10-14T03:12:17.755824Z",
          "start_time": "2019-10-14T03:12:17.006212Z"
        },
        "id": "M8AqObSAbc-y",
        "colab_type": "code",
        "outputId": "bf6e0837-023d-4b2a-bc16-09a8d2e0799b",
        "colab": {
          "base_uri": "https://localhost:8080/",
          "height": 474
        }
      },
      "source": [
        "train_target[\"rubber\"].plot(ax=plt.gca(), label=\"target\")\n",
        "plt.legend(loc=0)\n",
        "plt.ylabel(\"$\")\n",
        "plt.tight_layout()\n",
        "plt.title(\"Rubber prices\", fontsize=12)"
      ],
      "execution_count": 183,
      "outputs": [
        {
          "output_type": "execute_result",
          "data": {
            "text/plain": [
              "Text(0.5, 1, 'Rubber prices')"
            ]
          },
          "metadata": {
            "tags": []
          },
          "execution_count": 183
        },
        {
          "output_type": "display_data",
          "data": {
            "image/png": "[encoded data removed]",
            "text/plain": [
              "<Figure size 432x432 with 1 Axes>"
            ]
          },
          "metadata": {
            "tags": []
          }
        }
      ]
    },
    {
      "cell_type": "code",
      "metadata": {
        "id": "J8BL2hoUYBiO",
        "colab_type": "code",
        "colab": {
          "base_uri": "https://localhost:8080/",
          "height": 640
        },
        "outputId": "f935c588-3792-4eb9-d7e4-135d0b42a569"
      },
      "source": [
        "data"
      ],
      "execution_count": 462,
      "outputs": [
        {
          "output_type": "execute_result",
          "data": {
            "text/html": [
              "<div>\n",
              "<style scoped>\n",
              "    .dataframe tbody tr th:only-of-type {\n",
              "        vertical-align: middle;\n",
              "    }\n",
              "\n",
              "    .dataframe tbody tr th {\n",
              "        vertical-align: top;\n",
              "    }\n",
              "\n",
              "    .dataframe thead th {\n",
              "        text-align: right;\n",
              "    }\n",
              "</style>\n",
              "<table border=\"1\" class=\"dataframe\">\n",
              "  <thead>\n",
              "    <tr style=\"text-align: right;\">\n",
              "      <th></th>\n",
              "      <th>brent_close</th>\n",
              "      <th>brent_open</th>\n",
              "      <th>brent_max</th>\n",
              "      <th>brent_min</th>\n",
              "      <th>USDCNY_close</th>\n",
              "      <th>USDCNY_open</th>\n",
              "      <th>USDCNY_max</th>\n",
              "      <th>USDCNY_min</th>\n",
              "      <th>USDTHB_mid</th>\n",
              "      <th>USDTHB_max</th>\n",
              "      <th>USDTHB_min</th>\n",
              "      <th>USDTHB_open</th>\n",
              "      <th>USDIDR_mid</th>\n",
              "      <th>USDIDR_max</th>\n",
              "      <th>USDIDR_min</th>\n",
              "      <th>USDIDR_open</th>\n",
              "      <th>USDVND_mid</th>\n",
              "      <th>USDVND_max</th>\n",
              "      <th>USDVND_min</th>\n",
              "      <th>USDVND_open</th>\n",
              "      <th>rubber_close</th>\n",
              "    </tr>\n",
              "    <tr>\n",
              "      <th>date</th>\n",
              "      <th></th>\n",
              "      <th></th>\n",
              "      <th></th>\n",
              "      <th></th>\n",
              "      <th></th>\n",
              "      <th></th>\n",
              "      <th></th>\n",
              "      <th></th>\n",
              "      <th></th>\n",
              "      <th></th>\n",
              "      <th></th>\n",
              "      <th></th>\n",
              "      <th></th>\n",
              "      <th></th>\n",
              "      <th></th>\n",
              "      <th></th>\n",
              "      <th></th>\n",
              "      <th></th>\n",
              "      <th></th>\n",
              "      <th></th>\n",
              "      <th></th>\n",
              "    </tr>\n",
              "  </thead>\n",
              "  <tbody>\n",
              "    <tr>\n",
              "      <th>2002-07-01</th>\n",
              "      <td>25.639999</td>\n",
              "      <td>25.500000</td>\n",
              "      <td>25.719999</td>\n",
              "      <td>25.389999</td>\n",
              "      <td>8.2770</td>\n",
              "      <td>8.2770</td>\n",
              "      <td>8.2770</td>\n",
              "      <td>8.2770</td>\n",
              "      <td>41.570000</td>\n",
              "      <td>41.570000</td>\n",
              "      <td>41.395000</td>\n",
              "      <td>41.500000</td>\n",
              "      <td>8710.0</td>\n",
              "      <td>8715.0</td>\n",
              "      <td>8669.0</td>\n",
              "      <td>8700.0</td>\n",
              "      <td>15297.5</td>\n",
              "      <td>NaN</td>\n",
              "      <td>NaN</td>\n",
              "      <td>NaN</td>\n",
              "      <td>835.0</td>\n",
              "    </tr>\n",
              "    <tr>\n",
              "      <th>2002-07-02</th>\n",
              "      <td>25.750000</td>\n",
              "      <td>25.610001</td>\n",
              "      <td>25.969999</td>\n",
              "      <td>25.600000</td>\n",
              "      <td>8.2769</td>\n",
              "      <td>8.2769</td>\n",
              "      <td>8.2769</td>\n",
              "      <td>8.2769</td>\n",
              "      <td>41.514999</td>\n",
              "      <td>41.560001</td>\n",
              "      <td>41.419998</td>\n",
              "      <td>41.540001</td>\n",
              "      <td>8805.0</td>\n",
              "      <td>8820.0</td>\n",
              "      <td>8720.0</td>\n",
              "      <td>8720.0</td>\n",
              "      <td>15297.0</td>\n",
              "      <td>NaN</td>\n",
              "      <td>NaN</td>\n",
              "      <td>NaN</td>\n",
              "      <td>827.5</td>\n",
              "    </tr>\n",
              "    <tr>\n",
              "      <th>2002-07-03</th>\n",
              "      <td>25.840000</td>\n",
              "      <td>25.730000</td>\n",
              "      <td>25.959999</td>\n",
              "      <td>25.520000</td>\n",
              "      <td>8.2768</td>\n",
              "      <td>8.2768</td>\n",
              "      <td>8.2768</td>\n",
              "      <td>8.2768</td>\n",
              "      <td>41.610001</td>\n",
              "      <td>41.645000</td>\n",
              "      <td>41.520000</td>\n",
              "      <td>41.529999</td>\n",
              "      <td>8965.0</td>\n",
              "      <td>8985.0</td>\n",
              "      <td>8790.0</td>\n",
              "      <td>8825.0</td>\n",
              "      <td>15297.5</td>\n",
              "      <td>NaN</td>\n",
              "      <td>NaN</td>\n",
              "      <td>NaN</td>\n",
              "      <td>847.5</td>\n",
              "    </tr>\n",
              "    <tr>\n",
              "      <th>2002-07-04</th>\n",
              "      <td>25.549999</td>\n",
              "      <td>25.879999</td>\n",
              "      <td>25.940001</td>\n",
              "      <td>25.500000</td>\n",
              "      <td>8.2767</td>\n",
              "      <td>8.2767</td>\n",
              "      <td>8.2767</td>\n",
              "      <td>8.2767</td>\n",
              "      <td>41.544998</td>\n",
              "      <td>41.619999</td>\n",
              "      <td>41.494999</td>\n",
              "      <td>41.500000</td>\n",
              "      <td>8855.0</td>\n",
              "      <td>8970.0</td>\n",
              "      <td>8790.0</td>\n",
              "      <td>8790.0</td>\n",
              "      <td>15298.5</td>\n",
              "      <td>NaN</td>\n",
              "      <td>NaN</td>\n",
              "      <td>NaN</td>\n",
              "      <td>847.5</td>\n",
              "    </tr>\n",
              "    <tr>\n",
              "      <th>2002-07-05</th>\n",
              "      <td>25.730000</td>\n",
              "      <td>25.650000</td>\n",
              "      <td>25.750000</td>\n",
              "      <td>25.420000</td>\n",
              "      <td>8.2766</td>\n",
              "      <td>8.2766</td>\n",
              "      <td>8.2766</td>\n",
              "      <td>8.2766</td>\n",
              "      <td>41.645000</td>\n",
              "      <td>41.639999</td>\n",
              "      <td>41.514999</td>\n",
              "      <td>41.560001</td>\n",
              "      <td>8860.0</td>\n",
              "      <td>8850.0</td>\n",
              "      <td>8815.0</td>\n",
              "      <td>8830.0</td>\n",
              "      <td>15295.0</td>\n",
              "      <td>NaN</td>\n",
              "      <td>NaN</td>\n",
              "      <td>NaN</td>\n",
              "      <td>847.5</td>\n",
              "    </tr>\n",
              "    <tr>\n",
              "      <th>...</th>\n",
              "      <td>...</td>\n",
              "      <td>...</td>\n",
              "      <td>...</td>\n",
              "      <td>...</td>\n",
              "      <td>...</td>\n",
              "      <td>...</td>\n",
              "      <td>...</td>\n",
              "      <td>...</td>\n",
              "      <td>...</td>\n",
              "      <td>...</td>\n",
              "      <td>...</td>\n",
              "      <td>...</td>\n",
              "      <td>...</td>\n",
              "      <td>...</td>\n",
              "      <td>...</td>\n",
              "      <td>...</td>\n",
              "      <td>...</td>\n",
              "      <td>...</td>\n",
              "      <td>...</td>\n",
              "      <td>...</td>\n",
              "      <td>...</td>\n",
              "    </tr>\n",
              "    <tr>\n",
              "      <th>2019-06-24</th>\n",
              "      <td>64.860001</td>\n",
              "      <td>65.500000</td>\n",
              "      <td>65.790001</td>\n",
              "      <td>64.080002</td>\n",
              "      <td>6.8770</td>\n",
              "      <td>6.8736</td>\n",
              "      <td>6.8873</td>\n",
              "      <td>6.8700</td>\n",
              "      <td>30.665001</td>\n",
              "      <td>30.820000</td>\n",
              "      <td>30.650000</td>\n",
              "      <td>30.809999</td>\n",
              "      <td>14140.0</td>\n",
              "      <td>14170.0</td>\n",
              "      <td>14130.0</td>\n",
              "      <td>14130.0</td>\n",
              "      <td>23291.0</td>\n",
              "      <td>23300.0</td>\n",
              "      <td>23280.0</td>\n",
              "      <td>23290.0</td>\n",
              "      <td>1469.0</td>\n",
              "    </tr>\n",
              "    <tr>\n",
              "      <th>2019-06-25</th>\n",
              "      <td>65.050003</td>\n",
              "      <td>64.889999</td>\n",
              "      <td>65.980003</td>\n",
              "      <td>64.169998</td>\n",
              "      <td>6.8798</td>\n",
              "      <td>6.8715</td>\n",
              "      <td>6.8851</td>\n",
              "      <td>6.8655</td>\n",
              "      <td>30.709999</td>\n",
              "      <td>30.750000</td>\n",
              "      <td>30.620001</td>\n",
              "      <td>30.660000</td>\n",
              "      <td>14125.0</td>\n",
              "      <td>14140.0</td>\n",
              "      <td>14090.0</td>\n",
              "      <td>14135.0</td>\n",
              "      <td>23297.0</td>\n",
              "      <td>23305.0</td>\n",
              "      <td>23284.0</td>\n",
              "      <td>23290.0</td>\n",
              "      <td>1495.0</td>\n",
              "    </tr>\n",
              "    <tr>\n",
              "      <th>2019-06-26</th>\n",
              "      <td>66.489998</td>\n",
              "      <td>65.800003</td>\n",
              "      <td>66.849998</td>\n",
              "      <td>65.599998</td>\n",
              "      <td>6.8800</td>\n",
              "      <td>6.8876</td>\n",
              "      <td>6.8937</td>\n",
              "      <td>6.8658</td>\n",
              "      <td>30.735001</td>\n",
              "      <td>30.870001</td>\n",
              "      <td>30.700001</td>\n",
              "      <td>30.760000</td>\n",
              "      <td>14175.0</td>\n",
              "      <td>14180.0</td>\n",
              "      <td>14130.0</td>\n",
              "      <td>14130.0</td>\n",
              "      <td>23305.0</td>\n",
              "      <td>23320.0</td>\n",
              "      <td>23287.0</td>\n",
              "      <td>23300.0</td>\n",
              "      <td>1498.0</td>\n",
              "    </tr>\n",
              "    <tr>\n",
              "      <th>2019-06-27</th>\n",
              "      <td>66.550003</td>\n",
              "      <td>66.050003</td>\n",
              "      <td>66.820000</td>\n",
              "      <td>65.629997</td>\n",
              "      <td>6.8771</td>\n",
              "      <td>6.8785</td>\n",
              "      <td>6.8846</td>\n",
              "      <td>6.8738</td>\n",
              "      <td>30.790001</td>\n",
              "      <td>30.799999</td>\n",
              "      <td>30.709999</td>\n",
              "      <td>30.740000</td>\n",
              "      <td>14140.0</td>\n",
              "      <td>14180.0</td>\n",
              "      <td>14135.0</td>\n",
              "      <td>14170.0</td>\n",
              "      <td>23315.0</td>\n",
              "      <td>23330.0</td>\n",
              "      <td>23300.0</td>\n",
              "      <td>23300.0</td>\n",
              "      <td>1503.0</td>\n",
              "    </tr>\n",
              "    <tr>\n",
              "      <th>2019-06-28</th>\n",
              "      <td>66.550003</td>\n",
              "      <td>66.510002</td>\n",
              "      <td>66.839996</td>\n",
              "      <td>66.080002</td>\n",
              "      <td>6.8668</td>\n",
              "      <td>6.8748</td>\n",
              "      <td>6.8801</td>\n",
              "      <td>6.8595</td>\n",
              "      <td>30.690001</td>\n",
              "      <td>30.790001</td>\n",
              "      <td>30.650000</td>\n",
              "      <td>30.790001</td>\n",
              "      <td>14127.5</td>\n",
              "      <td>14145.0</td>\n",
              "      <td>14095.0</td>\n",
              "      <td>14130.0</td>\n",
              "      <td>23305.0</td>\n",
              "      <td>23318.0</td>\n",
              "      <td>23275.0</td>\n",
              "      <td>23300.0</td>\n",
              "      <td>1498.0</td>\n",
              "    </tr>\n",
              "  </tbody>\n",
              "</table>\n",
              "<p>4221 rows × 21 columns</p>\n",
              "</div>"
            ],
            "text/plain": [
              "            brent_close  brent_open  ...  USDVND_open  rubber_close\n",
              "date                                 ...                           \n",
              "2002-07-01    25.639999   25.500000  ...          NaN         835.0\n",
              "2002-07-02    25.750000   25.610001  ...          NaN         827.5\n",
              "2002-07-03    25.840000   25.730000  ...          NaN         847.5\n",
              "2002-07-04    25.549999   25.879999  ...          NaN         847.5\n",
              "2002-07-05    25.730000   25.650000  ...          NaN         847.5\n",
              "...                 ...         ...  ...          ...           ...\n",
              "2019-06-24    64.860001   65.500000  ...      23290.0        1469.0\n",
              "2019-06-25    65.050003   64.889999  ...      23290.0        1495.0\n",
              "2019-06-26    66.489998   65.800003  ...      23300.0        1498.0\n",
              "2019-06-27    66.550003   66.050003  ...      23300.0        1503.0\n",
              "2019-06-28    66.550003   66.510002  ...      23300.0        1498.0\n",
              "\n",
              "[4221 rows x 21 columns]"
            ]
          },
          "metadata": {
            "tags": []
          },
          "execution_count": 462
        }
      ]
    },
    {
      "cell_type": "code",
      "metadata": {
        "ExecuteTime": {
          "end_time": "2019-10-14T03:12:17.786388Z",
          "start_time": "2019-10-14T03:12:17.761477Z"
        },
        "colab_type": "code",
        "id": "DZJwmeroNvbs",
        "colab": {
          "base_uri": "https://localhost:8080/",
          "height": 119
        },
        "outputId": "4f5dfefa-63f9-429e-cffe-0a323ec63710"
      },
      "source": [
        "fts = data.resample(\"D\").mean()\n",
        "\n",
        "COLS = [col for col in fts.columns if (\"USDVND_max\" not in col\n",
        "                                        and \"USDVND_min\" not in col\n",
        "                                        and \"USDVND_open\" not in col)]\n",
        "fts = fts[COLS].ffill()\n",
        "fts.isna().sum().sort_values(ascending=False).head(5)"
      ],
      "execution_count": 562,
      "outputs": [
        {
          "output_type": "execute_result",
          "data": {
            "text/plain": [
              "rubber_close    0\n",
              "USDVND_mid      0\n",
              "brent_open      0\n",
              "brent_max       0\n",
              "brent_min       0\n",
              "dtype: int64"
            ]
          },
          "metadata": {
            "tags": []
          },
          "execution_count": 562
        }
      ]
    },
    {
      "cell_type": "code",
      "metadata": {
        "id": "VdhU_4Hp7dtK",
        "colab_type": "code",
        "colab": {
          "base_uri": "https://localhost:8080/",
          "height": 640
        },
        "outputId": "a93f6581-762f-410f-9a61-56942828076c"
      },
      "source": [
        "fts"
      ],
      "execution_count": 547,
      "outputs": [
        {
          "output_type": "execute_result",
          "data": {
            "text/html": [
              "<div>\n",
              "<style scoped>\n",
              "    .dataframe tbody tr th:only-of-type {\n",
              "        vertical-align: middle;\n",
              "    }\n",
              "\n",
              "    .dataframe tbody tr th {\n",
              "        vertical-align: top;\n",
              "    }\n",
              "\n",
              "    .dataframe thead th {\n",
              "        text-align: right;\n",
              "    }\n",
              "</style>\n",
              "<table border=\"1\" class=\"dataframe\">\n",
              "  <thead>\n",
              "    <tr style=\"text-align: right;\">\n",
              "      <th></th>\n",
              "      <th>brent_close</th>\n",
              "      <th>brent_open</th>\n",
              "      <th>brent_max</th>\n",
              "      <th>brent_min</th>\n",
              "      <th>USDCNY_close</th>\n",
              "      <th>USDCNY_open</th>\n",
              "      <th>USDCNY_max</th>\n",
              "      <th>USDCNY_min</th>\n",
              "      <th>USDTHB_mid</th>\n",
              "      <th>USDTHB_max</th>\n",
              "      <th>USDTHB_min</th>\n",
              "      <th>USDTHB_open</th>\n",
              "      <th>USDIDR_mid</th>\n",
              "      <th>USDIDR_max</th>\n",
              "      <th>USDIDR_min</th>\n",
              "      <th>USDIDR_open</th>\n",
              "      <th>USDVND_mid</th>\n",
              "      <th>rubber_close</th>\n",
              "    </tr>\n",
              "    <tr>\n",
              "      <th>date</th>\n",
              "      <th></th>\n",
              "      <th></th>\n",
              "      <th></th>\n",
              "      <th></th>\n",
              "      <th></th>\n",
              "      <th></th>\n",
              "      <th></th>\n",
              "      <th></th>\n",
              "      <th></th>\n",
              "      <th></th>\n",
              "      <th></th>\n",
              "      <th></th>\n",
              "      <th></th>\n",
              "      <th></th>\n",
              "      <th></th>\n",
              "      <th></th>\n",
              "      <th></th>\n",
              "      <th></th>\n",
              "    </tr>\n",
              "  </thead>\n",
              "  <tbody>\n",
              "    <tr>\n",
              "      <th>2002-07-01</th>\n",
              "      <td>25.639999</td>\n",
              "      <td>25.500000</td>\n",
              "      <td>25.719999</td>\n",
              "      <td>25.389999</td>\n",
              "      <td>8.2770</td>\n",
              "      <td>8.2770</td>\n",
              "      <td>8.2770</td>\n",
              "      <td>8.2770</td>\n",
              "      <td>41.570000</td>\n",
              "      <td>41.570000</td>\n",
              "      <td>41.395000</td>\n",
              "      <td>41.500000</td>\n",
              "      <td>8710.0</td>\n",
              "      <td>8715.0</td>\n",
              "      <td>8669.0</td>\n",
              "      <td>8700.0</td>\n",
              "      <td>15297.5</td>\n",
              "      <td>835.0</td>\n",
              "    </tr>\n",
              "    <tr>\n",
              "      <th>2002-07-02</th>\n",
              "      <td>25.750000</td>\n",
              "      <td>25.610001</td>\n",
              "      <td>25.969999</td>\n",
              "      <td>25.600000</td>\n",
              "      <td>8.2769</td>\n",
              "      <td>8.2769</td>\n",
              "      <td>8.2769</td>\n",
              "      <td>8.2769</td>\n",
              "      <td>41.514999</td>\n",
              "      <td>41.560001</td>\n",
              "      <td>41.419998</td>\n",
              "      <td>41.540001</td>\n",
              "      <td>8805.0</td>\n",
              "      <td>8820.0</td>\n",
              "      <td>8720.0</td>\n",
              "      <td>8720.0</td>\n",
              "      <td>15297.0</td>\n",
              "      <td>827.5</td>\n",
              "    </tr>\n",
              "    <tr>\n",
              "      <th>2002-07-03</th>\n",
              "      <td>25.840000</td>\n",
              "      <td>25.730000</td>\n",
              "      <td>25.959999</td>\n",
              "      <td>25.520000</td>\n",
              "      <td>8.2768</td>\n",
              "      <td>8.2768</td>\n",
              "      <td>8.2768</td>\n",
              "      <td>8.2768</td>\n",
              "      <td>41.610001</td>\n",
              "      <td>41.645000</td>\n",
              "      <td>41.520000</td>\n",
              "      <td>41.529999</td>\n",
              "      <td>8965.0</td>\n",
              "      <td>8985.0</td>\n",
              "      <td>8790.0</td>\n",
              "      <td>8825.0</td>\n",
              "      <td>15297.5</td>\n",
              "      <td>847.5</td>\n",
              "    </tr>\n",
              "    <tr>\n",
              "      <th>2002-07-04</th>\n",
              "      <td>25.549999</td>\n",
              "      <td>25.879999</td>\n",
              "      <td>25.940001</td>\n",
              "      <td>25.500000</td>\n",
              "      <td>8.2767</td>\n",
              "      <td>8.2767</td>\n",
              "      <td>8.2767</td>\n",
              "      <td>8.2767</td>\n",
              "      <td>41.544998</td>\n",
              "      <td>41.619999</td>\n",
              "      <td>41.494999</td>\n",
              "      <td>41.500000</td>\n",
              "      <td>8855.0</td>\n",
              "      <td>8970.0</td>\n",
              "      <td>8790.0</td>\n",
              "      <td>8790.0</td>\n",
              "      <td>15298.5</td>\n",
              "      <td>847.5</td>\n",
              "    </tr>\n",
              "    <tr>\n",
              "      <th>2002-07-05</th>\n",
              "      <td>25.730000</td>\n",
              "      <td>25.650000</td>\n",
              "      <td>25.750000</td>\n",
              "      <td>25.420000</td>\n",
              "      <td>8.2766</td>\n",
              "      <td>8.2766</td>\n",
              "      <td>8.2766</td>\n",
              "      <td>8.2766</td>\n",
              "      <td>41.645000</td>\n",
              "      <td>41.639999</td>\n",
              "      <td>41.514999</td>\n",
              "      <td>41.560001</td>\n",
              "      <td>8860.0</td>\n",
              "      <td>8850.0</td>\n",
              "      <td>8815.0</td>\n",
              "      <td>8830.0</td>\n",
              "      <td>15295.0</td>\n",
              "      <td>847.5</td>\n",
              "    </tr>\n",
              "    <tr>\n",
              "      <th>...</th>\n",
              "      <td>...</td>\n",
              "      <td>...</td>\n",
              "      <td>...</td>\n",
              "      <td>...</td>\n",
              "      <td>...</td>\n",
              "      <td>...</td>\n",
              "      <td>...</td>\n",
              "      <td>...</td>\n",
              "      <td>...</td>\n",
              "      <td>...</td>\n",
              "      <td>...</td>\n",
              "      <td>...</td>\n",
              "      <td>...</td>\n",
              "      <td>...</td>\n",
              "      <td>...</td>\n",
              "      <td>...</td>\n",
              "      <td>...</td>\n",
              "      <td>...</td>\n",
              "    </tr>\n",
              "    <tr>\n",
              "      <th>2019-06-24</th>\n",
              "      <td>64.860001</td>\n",
              "      <td>65.500000</td>\n",
              "      <td>65.790001</td>\n",
              "      <td>64.080002</td>\n",
              "      <td>6.8770</td>\n",
              "      <td>6.8736</td>\n",
              "      <td>6.8873</td>\n",
              "      <td>6.8700</td>\n",
              "      <td>30.665001</td>\n",
              "      <td>30.820000</td>\n",
              "      <td>30.650000</td>\n",
              "      <td>30.809999</td>\n",
              "      <td>14140.0</td>\n",
              "      <td>14170.0</td>\n",
              "      <td>14130.0</td>\n",
              "      <td>14130.0</td>\n",
              "      <td>23291.0</td>\n",
              "      <td>1469.0</td>\n",
              "    </tr>\n",
              "    <tr>\n",
              "      <th>2019-06-25</th>\n",
              "      <td>65.050003</td>\n",
              "      <td>64.889999</td>\n",
              "      <td>65.980003</td>\n",
              "      <td>64.169998</td>\n",
              "      <td>6.8798</td>\n",
              "      <td>6.8715</td>\n",
              "      <td>6.8851</td>\n",
              "      <td>6.8655</td>\n",
              "      <td>30.709999</td>\n",
              "      <td>30.750000</td>\n",
              "      <td>30.620001</td>\n",
              "      <td>30.660000</td>\n",
              "      <td>14125.0</td>\n",
              "      <td>14140.0</td>\n",
              "      <td>14090.0</td>\n",
              "      <td>14135.0</td>\n",
              "      <td>23297.0</td>\n",
              "      <td>1495.0</td>\n",
              "    </tr>\n",
              "    <tr>\n",
              "      <th>2019-06-26</th>\n",
              "      <td>66.489998</td>\n",
              "      <td>65.800003</td>\n",
              "      <td>66.849998</td>\n",
              "      <td>65.599998</td>\n",
              "      <td>6.8800</td>\n",
              "      <td>6.8876</td>\n",
              "      <td>6.8937</td>\n",
              "      <td>6.8658</td>\n",
              "      <td>30.735001</td>\n",
              "      <td>30.870001</td>\n",
              "      <td>30.700001</td>\n",
              "      <td>30.760000</td>\n",
              "      <td>14175.0</td>\n",
              "      <td>14180.0</td>\n",
              "      <td>14130.0</td>\n",
              "      <td>14130.0</td>\n",
              "      <td>23305.0</td>\n",
              "      <td>1498.0</td>\n",
              "    </tr>\n",
              "    <tr>\n",
              "      <th>2019-06-27</th>\n",
              "      <td>66.550003</td>\n",
              "      <td>66.050003</td>\n",
              "      <td>66.820000</td>\n",
              "      <td>65.629997</td>\n",
              "      <td>6.8771</td>\n",
              "      <td>6.8785</td>\n",
              "      <td>6.8846</td>\n",
              "      <td>6.8738</td>\n",
              "      <td>30.790001</td>\n",
              "      <td>30.799999</td>\n",
              "      <td>30.709999</td>\n",
              "      <td>30.740000</td>\n",
              "      <td>14140.0</td>\n",
              "      <td>14180.0</td>\n",
              "      <td>14135.0</td>\n",
              "      <td>14170.0</td>\n",
              "      <td>23315.0</td>\n",
              "      <td>1503.0</td>\n",
              "    </tr>\n",
              "    <tr>\n",
              "      <th>2019-06-28</th>\n",
              "      <td>66.550003</td>\n",
              "      <td>66.510002</td>\n",
              "      <td>66.839996</td>\n",
              "      <td>66.080002</td>\n",
              "      <td>6.8668</td>\n",
              "      <td>6.8748</td>\n",
              "      <td>6.8801</td>\n",
              "      <td>6.8595</td>\n",
              "      <td>30.690001</td>\n",
              "      <td>30.790001</td>\n",
              "      <td>30.650000</td>\n",
              "      <td>30.790001</td>\n",
              "      <td>14127.5</td>\n",
              "      <td>14145.0</td>\n",
              "      <td>14095.0</td>\n",
              "      <td>14130.0</td>\n",
              "      <td>23305.0</td>\n",
              "      <td>1498.0</td>\n",
              "    </tr>\n",
              "  </tbody>\n",
              "</table>\n",
              "<p>6207 rows × 18 columns</p>\n",
              "</div>"
            ],
            "text/plain": [
              "            brent_close  brent_open  ...  USDVND_mid  rubber_close\n",
              "date                                 ...                          \n",
              "2002-07-01    25.639999   25.500000  ...     15297.5         835.0\n",
              "2002-07-02    25.750000   25.610001  ...     15297.0         827.5\n",
              "2002-07-03    25.840000   25.730000  ...     15297.5         847.5\n",
              "2002-07-04    25.549999   25.879999  ...     15298.5         847.5\n",
              "2002-07-05    25.730000   25.650000  ...     15295.0         847.5\n",
              "...                 ...         ...  ...         ...           ...\n",
              "2019-06-24    64.860001   65.500000  ...     23291.0        1469.0\n",
              "2019-06-25    65.050003   64.889999  ...     23297.0        1495.0\n",
              "2019-06-26    66.489998   65.800003  ...     23305.0        1498.0\n",
              "2019-06-27    66.550003   66.050003  ...     23315.0        1503.0\n",
              "2019-06-28    66.550003   66.510002  ...     23305.0        1498.0\n",
              "\n",
              "[6207 rows x 18 columns]"
            ]
          },
          "metadata": {
            "tags": []
          },
          "execution_count": 547
        }
      ]
    },
    {
      "cell_type": "code",
      "metadata": {
        "id": "vz9LpbOAb5mg",
        "colab_type": "code",
        "colab": {}
      },
      "source": [
        "import requests\n",
        "import io\n",
        "\n",
        "BASE_URL = \"https://www.ncei.noaa.gov/access/services/data/v1\"\n",
        "\n",
        "STATIONS = [\"IDM00096087\", \"VMM00048914\", \"TH000048426\"]\n",
        "STATIONS_QUERY = f'stations={\",\".join(STATIONS)}'\n",
        "\n",
        "DATA_TYPES = [\"TAVG\", \"TMAX\", \"TMIN\", \"PRCP\"]\n",
        "DATA_TYPES_QUERY = f'dataTypes={\",\".join(DATA_TYPES)}'\n",
        "\n",
        "START = \"2002-01-01\"\n",
        "END = \"2019-08-01\"\n",
        "\n",
        "BASE_PARAMS = [\"units=metric\",\n",
        "               \"dataset=daily-summaries\",\n",
        "               f\"startDate={START}\",\n",
        "               f\"endDate={END}\",               \n",
        "               STATIONS_QUERY,\n",
        "               DATA_TYPES_QUERY]\n",
        "\n",
        "response = requests.get(\"?\".join([BASE_URL, \"&\".join(BASE_PARAMS)]))\n",
        "\n",
        "assert response.status_code==200\n",
        "\n",
        "weather_data = pd.read_csv(io.StringIO(response.text), parse_dates=[\"DATE\"])\n",
        "\n",
        "weather_data.groupby(\"STATION\").count()\n",
        "\n",
        "weather_data.fillna({\"PRCP\":0}, inplace=True)\n",
        "weather_data.ffill(inplace=True)\n",
        "\n",
        "pd.date_range(START, END, freq=\"1D\")\n",
        "\n",
        "full_weather_data = []\n",
        "\n",
        "for station, station_data in weather_data.groupby(\"STATION\"):\n",
        "    full_weather_data.append(station_data\n",
        "                     .set_index(\"DATE\")\n",
        "                     .drop(\"STATION\", axis=1)\n",
        "                     .rename(lambda cl: f\"{cl}_{station}\", axis=1))\n",
        "\n",
        "full_weather_data = pd.concat(full_weather_data, axis=1)\n",
        "full_weather_data = full_weather_data.reindex(pd.date_range(START, END, freq=\"1D\"))\n",
        "\n",
        "full_weather_data.drop([cl for cl in full_weather_data.columns if \"PRCP\" in cl], axis=1, inplace=True)\n",
        "full_weather_data.ffill(inplace=True)\n",
        "\n",
        "full_weather_data.head()\n",
        "\n",
        "fts = fts.join(full_weather_data, how=\"inner\")"
      ],
      "execution_count": 0,
      "outputs": []
    },
    {
      "cell_type": "code",
      "metadata": {
        "id": "7ahxSnl5w7Ud",
        "colab_type": "code",
        "colab": {}
      },
      "source": [
        "from sklearn.decomposition import PCA\n",
        "\n",
        "pca = PCA(n_components='mle', svd_solver='full')\n",
        "pca.fit(fts)\n",
        "t = pca.transform(fts)\n",
        "\n",
        "cols = [f\"f{i:d}\" for i in range(t.shape[1])]\n",
        "fts = pd.DataFrame(t, index=fts.index, columns=cols)\n",
        "\n",
        "fts.head()"
      ],
      "execution_count": 0,
      "outputs": []
    },
    {
      "cell_type": "code",
      "metadata": {
        "ExecuteTime": {
          "end_time": "2019-10-14T03:12:18.681738Z",
          "start_time": "2019-10-14T03:12:17.804611Z"
        },
        "id": "1g_LW7O6bc-7",
        "colab_type": "code",
        "colab": {
          "base_uri": "https://localhost:8080/",
          "height": 442
        },
        "outputId": "252f10ad-8c6e-4705-aa03-b7b6a80e792e"
      },
      "source": [
        "rolling_features = fts.rolling(\"30D\").aggregate(\"mean\")\n",
        "all_features = rolling_features[rolling_features.index.day==9]\n",
        "\n",
        "all_features[\"prediction_date\"] = (all_features.index\n",
        "                                   + pd.TimedeltaIndex(all_features.index.days_in_month-8,\n",
        "                                                       unit=\"D\"));\n",
        "\n",
        "all_features.head()"
      ],
      "execution_count": 564,
      "outputs": [
        {
          "output_type": "stream",
          "text": [
            "/usr/local/lib/python3.6/dist-packages/ipykernel_launcher.py:6: SettingWithCopyWarning: \n",
            "A value is trying to be set on a copy of a slice from a DataFrame.\n",
            "Try using .loc[row_indexer,col_indexer] = value instead\n",
            "\n",
            "See the caveats in the documentation: http://pandas.pydata.org/pandas-docs/stable/user_guide/indexing.html#returning-a-view-versus-a-copy\n",
            "  \n"
          ],
          "name": "stderr"
        },
        {
          "output_type": "execute_result",
          "data": {
            "text/html": [
              "<div>\n",
              "<style scoped>\n",
              "    .dataframe tbody tr th:only-of-type {\n",
              "        vertical-align: middle;\n",
              "    }\n",
              "\n",
              "    .dataframe tbody tr th {\n",
              "        vertical-align: top;\n",
              "    }\n",
              "\n",
              "    .dataframe thead th {\n",
              "        text-align: right;\n",
              "    }\n",
              "</style>\n",
              "<table border=\"1\" class=\"dataframe\">\n",
              "  <thead>\n",
              "    <tr style=\"text-align: right;\">\n",
              "      <th></th>\n",
              "      <th>brent_close</th>\n",
              "      <th>brent_open</th>\n",
              "      <th>brent_max</th>\n",
              "      <th>brent_min</th>\n",
              "      <th>USDCNY_close</th>\n",
              "      <th>USDCNY_open</th>\n",
              "      <th>USDCNY_max</th>\n",
              "      <th>USDCNY_min</th>\n",
              "      <th>USDTHB_mid</th>\n",
              "      <th>USDTHB_max</th>\n",
              "      <th>USDTHB_min</th>\n",
              "      <th>USDTHB_open</th>\n",
              "      <th>USDIDR_mid</th>\n",
              "      <th>USDIDR_max</th>\n",
              "      <th>USDIDR_min</th>\n",
              "      <th>USDIDR_open</th>\n",
              "      <th>USDVND_mid</th>\n",
              "      <th>rubber_close</th>\n",
              "      <th>prediction_date</th>\n",
              "    </tr>\n",
              "    <tr>\n",
              "      <th>date</th>\n",
              "      <th></th>\n",
              "      <th></th>\n",
              "      <th></th>\n",
              "      <th></th>\n",
              "      <th></th>\n",
              "      <th></th>\n",
              "      <th></th>\n",
              "      <th></th>\n",
              "      <th></th>\n",
              "      <th></th>\n",
              "      <th></th>\n",
              "      <th></th>\n",
              "      <th></th>\n",
              "      <th></th>\n",
              "      <th></th>\n",
              "      <th></th>\n",
              "      <th></th>\n",
              "      <th></th>\n",
              "      <th></th>\n",
              "    </tr>\n",
              "  </thead>\n",
              "  <tbody>\n",
              "    <tr>\n",
              "      <th>2002-07-09</th>\n",
              "      <td>25.580000</td>\n",
              "      <td>25.607778</td>\n",
              "      <td>25.754444</td>\n",
              "      <td>25.331111</td>\n",
              "      <td>8.276722</td>\n",
              "      <td>8.276722</td>\n",
              "      <td>8.276722</td>\n",
              "      <td>8.276722</td>\n",
              "      <td>41.540000</td>\n",
              "      <td>41.590555</td>\n",
              "      <td>41.437222</td>\n",
              "      <td>41.523334</td>\n",
              "      <td>8858.333333</td>\n",
              "      <td>8877.222222</td>\n",
              "      <td>8786.555556</td>\n",
              "      <td>8810.333333</td>\n",
              "      <td>15296.333333</td>\n",
              "      <td>840.833333</td>\n",
              "      <td>2002-08-01</td>\n",
              "    </tr>\n",
              "    <tr>\n",
              "      <th>2002-08-09</th>\n",
              "      <td>25.602000</td>\n",
              "      <td>25.531333</td>\n",
              "      <td>25.818667</td>\n",
              "      <td>25.259666</td>\n",
              "      <td>8.276800</td>\n",
              "      <td>8.276800</td>\n",
              "      <td>8.276800</td>\n",
              "      <td>8.276800</td>\n",
              "      <td>41.483667</td>\n",
              "      <td>41.594666</td>\n",
              "      <td>41.187400</td>\n",
              "      <td>41.360166</td>\n",
              "      <td>9032.316667</td>\n",
              "      <td>9101.500000</td>\n",
              "      <td>8911.000000</td>\n",
              "      <td>9013.166667</td>\n",
              "      <td>15311.300000</td>\n",
              "      <td>801.000000</td>\n",
              "      <td>2002-09-01</td>\n",
              "    </tr>\n",
              "    <tr>\n",
              "      <th>2002-09-09</th>\n",
              "      <td>27.152000</td>\n",
              "      <td>27.030667</td>\n",
              "      <td>27.414334</td>\n",
              "      <td>26.826334</td>\n",
              "      <td>8.276810</td>\n",
              "      <td>8.276810</td>\n",
              "      <td>8.276810</td>\n",
              "      <td>8.276810</td>\n",
              "      <td>42.150667</td>\n",
              "      <td>42.226500</td>\n",
              "      <td>42.047333</td>\n",
              "      <td>42.129334</td>\n",
              "      <td>8860.833333</td>\n",
              "      <td>8890.600000</td>\n",
              "      <td>8824.266667</td>\n",
              "      <td>8861.500000</td>\n",
              "      <td>15328.050000</td>\n",
              "      <td>864.083333</td>\n",
              "      <td>2002-10-01</td>\n",
              "    </tr>\n",
              "    <tr>\n",
              "      <th>2002-10-09</th>\n",
              "      <td>28.486333</td>\n",
              "      <td>28.518667</td>\n",
              "      <td>28.815000</td>\n",
              "      <td>28.218000</td>\n",
              "      <td>8.277060</td>\n",
              "      <td>8.277060</td>\n",
              "      <td>8.277060</td>\n",
              "      <td>8.277060</td>\n",
              "      <td>43.257667</td>\n",
              "      <td>43.297500</td>\n",
              "      <td>43.078000</td>\n",
              "      <td>43.150333</td>\n",
              "      <td>9003.050000</td>\n",
              "      <td>9008.200000</td>\n",
              "      <td>8973.333333</td>\n",
              "      <td>8988.533333</td>\n",
              "      <td>15340.766667</td>\n",
              "      <td>871.916667</td>\n",
              "      <td>2002-11-01</td>\n",
              "    </tr>\n",
              "    <tr>\n",
              "      <th>2002-11-09</th>\n",
              "      <td>26.184000</td>\n",
              "      <td>26.386000</td>\n",
              "      <td>26.649334</td>\n",
              "      <td>25.999667</td>\n",
              "      <td>8.276967</td>\n",
              "      <td>8.276967</td>\n",
              "      <td>8.276967</td>\n",
              "      <td>8.276967</td>\n",
              "      <td>43.527000</td>\n",
              "      <td>43.604000</td>\n",
              "      <td>43.439000</td>\n",
              "      <td>43.535000</td>\n",
              "      <td>9201.600000</td>\n",
              "      <td>9219.100000</td>\n",
              "      <td>9133.400000</td>\n",
              "      <td>9177.200000</td>\n",
              "      <td>15360.466667</td>\n",
              "      <td>829.583333</td>\n",
              "      <td>2002-12-01</td>\n",
              "    </tr>\n",
              "  </tbody>\n",
              "</table>\n",
              "</div>"
            ],
            "text/plain": [
              "            brent_close  brent_open  ...  rubber_close  prediction_date\n",
              "date                                 ...                               \n",
              "2002-07-09    25.580000   25.607778  ...    840.833333       2002-08-01\n",
              "2002-08-09    25.602000   25.531333  ...    801.000000       2002-09-01\n",
              "2002-09-09    27.152000   27.030667  ...    864.083333       2002-10-01\n",
              "2002-10-09    28.486333   28.518667  ...    871.916667       2002-11-01\n",
              "2002-11-09    26.184000   26.386000  ...    829.583333       2002-12-01\n",
              "\n",
              "[5 rows x 19 columns]"
            ]
          },
          "metadata": {
            "tags": []
          },
          "execution_count": 564
        }
      ]
    },
    {
      "cell_type": "code",
      "metadata": {
        "colab_type": "code",
        "outputId": "f9a2ae0d-0768-41f0-906b-d3a8b6d1d721",
        "id": "xZQPLH0Ny-in",
        "colab": {
          "base_uri": "https://localhost:8080/",
          "height": 119
        }
      },
      "source": [
        "final_fts = all_features.ffill()\n",
        "final_fts.isna().sum().sort_values(ascending=False).head(5)"
      ],
      "execution_count": 565,
      "outputs": [
        {
          "output_type": "execute_result",
          "data": {
            "text/plain": [
              "prediction_date    0\n",
              "USDTHB_mid         0\n",
              "brent_open         0\n",
              "brent_max          0\n",
              "brent_min          0\n",
              "dtype: int64"
            ]
          },
          "metadata": {
            "tags": []
          },
          "execution_count": 565
        }
      ]
    },
    {
      "cell_type": "code",
      "metadata": {
        "ExecuteTime": {
          "end_time": "2019-10-14T03:12:18.865492Z",
          "start_time": "2019-10-14T03:12:18.805624Z"
        },
        "id": "NAUHvCIxbc_Q",
        "colab_type": "code",
        "outputId": "ad4f7a94-0cfe-4090-af61-31e7c4db0e55",
        "colab": {
          "base_uri": "https://localhost:8080/",
          "height": 340
        }
      },
      "source": [
        "df = train_target.join(final_fts.set_index(\"prediction_date\"), how=\"outer\")\n",
        "df.index.name = \"date\"\n",
        "df.head()"
      ],
      "execution_count": 566,
      "outputs": [
        {
          "output_type": "execute_result",
          "data": {
            "text/html": [
              "<div>\n",
              "<style scoped>\n",
              "    .dataframe tbody tr th:only-of-type {\n",
              "        vertical-align: middle;\n",
              "    }\n",
              "\n",
              "    .dataframe tbody tr th {\n",
              "        vertical-align: top;\n",
              "    }\n",
              "\n",
              "    .dataframe thead th {\n",
              "        text-align: right;\n",
              "    }\n",
              "</style>\n",
              "<table border=\"1\" class=\"dataframe\">\n",
              "  <thead>\n",
              "    <tr style=\"text-align: right;\">\n",
              "      <th></th>\n",
              "      <th>rubber</th>\n",
              "      <th>brent_close</th>\n",
              "      <th>brent_open</th>\n",
              "      <th>brent_max</th>\n",
              "      <th>brent_min</th>\n",
              "      <th>USDCNY_close</th>\n",
              "      <th>USDCNY_open</th>\n",
              "      <th>USDCNY_max</th>\n",
              "      <th>USDCNY_min</th>\n",
              "      <th>USDTHB_mid</th>\n",
              "      <th>USDTHB_max</th>\n",
              "      <th>USDTHB_min</th>\n",
              "      <th>USDTHB_open</th>\n",
              "      <th>USDIDR_mid</th>\n",
              "      <th>USDIDR_max</th>\n",
              "      <th>USDIDR_min</th>\n",
              "      <th>USDIDR_open</th>\n",
              "      <th>USDVND_mid</th>\n",
              "      <th>rubber_close</th>\n",
              "    </tr>\n",
              "    <tr>\n",
              "      <th>date</th>\n",
              "      <th></th>\n",
              "      <th></th>\n",
              "      <th></th>\n",
              "      <th></th>\n",
              "      <th></th>\n",
              "      <th></th>\n",
              "      <th></th>\n",
              "      <th></th>\n",
              "      <th></th>\n",
              "      <th></th>\n",
              "      <th></th>\n",
              "      <th></th>\n",
              "      <th></th>\n",
              "      <th></th>\n",
              "      <th></th>\n",
              "      <th></th>\n",
              "      <th></th>\n",
              "      <th></th>\n",
              "      <th></th>\n",
              "    </tr>\n",
              "  </thead>\n",
              "  <tbody>\n",
              "    <tr>\n",
              "      <th>2002-08-01</th>\n",
              "      <td>830.595215</td>\n",
              "      <td>25.580000</td>\n",
              "      <td>25.607778</td>\n",
              "      <td>25.754444</td>\n",
              "      <td>25.331111</td>\n",
              "      <td>8.276722</td>\n",
              "      <td>8.276722</td>\n",
              "      <td>8.276722</td>\n",
              "      <td>8.276722</td>\n",
              "      <td>41.540000</td>\n",
              "      <td>41.590555</td>\n",
              "      <td>41.437222</td>\n",
              "      <td>41.523334</td>\n",
              "      <td>8858.333333</td>\n",
              "      <td>8877.222222</td>\n",
              "      <td>8786.555556</td>\n",
              "      <td>8810.333333</td>\n",
              "      <td>15296.333333</td>\n",
              "      <td>840.833333</td>\n",
              "    </tr>\n",
              "    <tr>\n",
              "      <th>2002-09-01</th>\n",
              "      <td>895.476196</td>\n",
              "      <td>25.602000</td>\n",
              "      <td>25.531333</td>\n",
              "      <td>25.818667</td>\n",
              "      <td>25.259666</td>\n",
              "      <td>8.276800</td>\n",
              "      <td>8.276800</td>\n",
              "      <td>8.276800</td>\n",
              "      <td>8.276800</td>\n",
              "      <td>41.483667</td>\n",
              "      <td>41.594666</td>\n",
              "      <td>41.187400</td>\n",
              "      <td>41.360166</td>\n",
              "      <td>9032.316667</td>\n",
              "      <td>9101.500000</td>\n",
              "      <td>8911.000000</td>\n",
              "      <td>9013.166667</td>\n",
              "      <td>15311.300000</td>\n",
              "      <td>801.000000</td>\n",
              "    </tr>\n",
              "    <tr>\n",
              "      <th>2002-10-01</th>\n",
              "      <td>831.304321</td>\n",
              "      <td>27.152000</td>\n",
              "      <td>27.030667</td>\n",
              "      <td>27.414334</td>\n",
              "      <td>26.826334</td>\n",
              "      <td>8.276810</td>\n",
              "      <td>8.276810</td>\n",
              "      <td>8.276810</td>\n",
              "      <td>8.276810</td>\n",
              "      <td>42.150667</td>\n",
              "      <td>42.226500</td>\n",
              "      <td>42.047333</td>\n",
              "      <td>42.129334</td>\n",
              "      <td>8860.833333</td>\n",
              "      <td>8890.600000</td>\n",
              "      <td>8824.266667</td>\n",
              "      <td>8861.500000</td>\n",
              "      <td>15328.050000</td>\n",
              "      <td>864.083333</td>\n",
              "    </tr>\n",
              "    <tr>\n",
              "      <th>2002-11-01</th>\n",
              "      <td>840.250000</td>\n",
              "      <td>28.486333</td>\n",
              "      <td>28.518667</td>\n",
              "      <td>28.815000</td>\n",
              "      <td>28.218000</td>\n",
              "      <td>8.277060</td>\n",
              "      <td>8.277060</td>\n",
              "      <td>8.277060</td>\n",
              "      <td>8.277060</td>\n",
              "      <td>43.257667</td>\n",
              "      <td>43.297500</td>\n",
              "      <td>43.078000</td>\n",
              "      <td>43.150333</td>\n",
              "      <td>9003.050000</td>\n",
              "      <td>9008.200000</td>\n",
              "      <td>8973.333333</td>\n",
              "      <td>8988.533333</td>\n",
              "      <td>15340.766667</td>\n",
              "      <td>871.916667</td>\n",
              "    </tr>\n",
              "    <tr>\n",
              "      <th>2002-12-01</th>\n",
              "      <td>849.875000</td>\n",
              "      <td>26.184000</td>\n",
              "      <td>26.386000</td>\n",
              "      <td>26.649334</td>\n",
              "      <td>25.999667</td>\n",
              "      <td>8.276967</td>\n",
              "      <td>8.276967</td>\n",
              "      <td>8.276967</td>\n",
              "      <td>8.276967</td>\n",
              "      <td>43.527000</td>\n",
              "      <td>43.604000</td>\n",
              "      <td>43.439000</td>\n",
              "      <td>43.535000</td>\n",
              "      <td>9201.600000</td>\n",
              "      <td>9219.100000</td>\n",
              "      <td>9133.400000</td>\n",
              "      <td>9177.200000</td>\n",
              "      <td>15360.466667</td>\n",
              "      <td>829.583333</td>\n",
              "    </tr>\n",
              "  </tbody>\n",
              "</table>\n",
              "</div>"
            ],
            "text/plain": [
              "                rubber  brent_close  ...    USDVND_mid  rubber_close\n",
              "date                                 ...                            \n",
              "2002-08-01  830.595215    25.580000  ...  15296.333333    840.833333\n",
              "2002-09-01  895.476196    25.602000  ...  15311.300000    801.000000\n",
              "2002-10-01  831.304321    27.152000  ...  15328.050000    864.083333\n",
              "2002-11-01  840.250000    28.486333  ...  15340.766667    871.916667\n",
              "2002-12-01  849.875000    26.184000  ...  15360.466667    829.583333\n",
              "\n",
              "[5 rows x 19 columns]"
            ]
          },
          "metadata": {
            "tags": []
          },
          "execution_count": 566
        }
      ]
    },
    {
      "cell_type": "code",
      "metadata": {
        "ExecuteTime": {
          "end_time": "2019-10-14T03:12:18.879064Z",
          "start_time": "2019-10-14T03:12:18.869457Z"
        },
        "id": "1kQzxCmsbc_V",
        "colab_type": "code",
        "colab": {}
      },
      "source": [
        "df[\"month\"] = df.index.month\n",
        "FCOLS = df.columns[1:]\n",
        "TARGET = \"rubber\""
      ],
      "execution_count": 0,
      "outputs": []
    },
    {
      "cell_type": "code",
      "metadata": {
        "ExecuteTime": {
          "end_time": "2019-10-14T03:12:18.977110Z",
          "start_time": "2019-10-14T03:12:18.958955Z"
        },
        "id": "zSOy9GTZbc_e",
        "colab_type": "code",
        "colab": {}
      },
      "source": [
        "tr = df[:\"2013\"].copy()\n",
        "cv = df[\"2014\":\"2015\"].copy()\n",
        "ts = df[\"2016\":].copy()"
      ],
      "execution_count": 0,
      "outputs": []
    },
    {
      "cell_type": "code",
      "metadata": {
        "ExecuteTime": {
          "end_time": "2019-10-14T03:12:19.838093Z",
          "start_time": "2019-10-14T03:12:18.981745Z"
        },
        "id": "uIO3_o_Zbc_g",
        "colab_type": "code",
        "outputId": "9a4516c8-5072-42fc-d508-4a3ef7d29bf3",
        "colab": {
          "base_uri": "https://localhost:8080/",
          "height": 474
        }
      },
      "source": [
        "tr[TARGET].plot(ax=plt.gca(), label=\"train\")\n",
        "cv[TARGET].plot(ax=plt.gca(), label=\"cv\")\n",
        "plt.legend(loc=0)\n",
        "plt.ylabel(\"$\")\n",
        "plt.tight_layout()\n",
        "plt.title(\"Rubber prices\", fontsize=12)"
      ],
      "execution_count": 569,
      "outputs": [
        {
          "output_type": "execute_result",
          "data": {
            "text/plain": [
              "Text(0.5, 1, 'Rubber prices')"
            ]
          },
          "metadata": {
            "tags": []
          },
          "execution_count": 569
        },
        {
          "output_type": "display_data",
          "data": {
            "image/png": "[encoded data removed]",
            "text/plain": [
              "<Figure size 864x432 with 1 Axes>"
            ]
          },
          "metadata": {
            "tags": []
          }
        }
      ]
    },
    {
      "cell_type": "code",
      "metadata": {
        "colab_type": "code",
        "outputId": "2f029dd3-e473-4a06-9c55-717efc6ebe4a",
        "id": "jEPWqkb9jCB7",
        "colab": {
          "base_uri": "https://localhost:8080/",
          "height": 1000
        }
      },
      "source": [
        "RS=77\n",
        "rn.seed(RS)\n",
        "tf.random.set_seed(RS)\n",
        "np.random.seed(RS)\n",
        "\n",
        "tf.keras.backend.clear_session()\n",
        "\n",
        "EPOCHS = 500\n",
        "BS = 128\n",
        "\n",
        "tr = df[:\"2013\"].copy()\n",
        "cv = df[\"2014\":\"2015\"].copy()\n",
        "ts = df[\"2016\":].copy()\n",
        "\n",
        "center, scale = tr[FCOLS].mean().values, tr[FCOLS].std().values\n",
        "trn = (tr[FCOLS] - center)/scale\n",
        "cvn = (cv[FCOLS] - center)/scale\n",
        "\n",
        "y_trn = tr[TARGET].values\n",
        "y_cv =  cv[TARGET].values\n",
        "\n",
        "model = keras.Sequential([\n",
        "  layers.Input(shape=(len(FCOLS))),\n",
        "  layers.Dense(128),\n",
        "  layers.Dropout(0.3),\n",
        "  layers.Dense(64),\n",
        "  layers.Dropout(0.2),\n",
        "  layers.Dense(16),\n",
        "  layers.Dropout(0.1),\n",
        "  layers.Dense(1)\n",
        "  ])\n",
        "\n",
        "optimizer = tf.keras.optimizers.Adam(lr=1e-4)\n",
        "model.compile(optimizer='adam', metrics=['mae', 'mse'], loss='mse') #tf.keras.losses.Huber())\n",
        "model.summary()\n",
        "model.reset_states()\n",
        "\n",
        "lr_schedule = keras.callbacks.ReduceLROnPlateau(verbose=0, factor=0.1)\n",
        "\n",
        "'''\n",
        "lr_schedule = keras.callbacks.ReduceLROnPlateau(verbose=0, factor=0.9)\n",
        "tf.compat.v1.train.cosine_decay(1e-3, epoch, epoch // 10, 0.2)\n",
        "lr_schedule = tf.keras.callbacks.LearningRateScheduler(step_decay) #lambda epoch: 1e-7 * 10**(epoch / 20))\n",
        "'''\n",
        "history = model.fit(trn, (y_trn - y_trn.mean())/y_trn.std(),\n",
        "          epochs=EPOCHS,\n",
        "          batch_size=BS,\n",
        "          shuffle=False,\n",
        "          use_multiprocessing=True,\n",
        "          verbose=0,\n",
        "          validation_data=(cvn, (y_cv - y_trn.mean())/y_trn.std()),\n",
        "          callbacks=[keras.callbacks.EarlyStopping(patience=100, restore_best_weights=True),\n",
        "            #lr_schedule,\n",
        "            keras.callbacks.ModelCheckpoint( \"my_checkpoint.h5\", monitor='val_loss', save_best_only=True ) \n",
        "          ])  \n",
        "model = tf.keras.models.load_model('my_checkpoint.h5')\n",
        "model.reset_states()\n",
        "\n",
        "plot_history(history)\n",
        "\n",
        "tr_preds = model.predict(trn, use_multiprocessing=True) * y_trn.std() + y_trn.mean()\n",
        "cv_preds = model.predict(cvn, use_multiprocessing=True) * y_trn.std() + y_trn.mean()\n",
        "\n",
        "tr_preds = pd.Series(tr_preds.flatten(), index=tr[TARGET].index, name=\"activity_pred\").sort_index()\n",
        "cv_preds = pd.Series(cv_preds.flatten(), index=cv[TARGET].index, name=\"activity_pred\")\n",
        "\n",
        "print(f\"MAPE (training set): {100 * mape(y_trn, tr_preds.values):.2f}%\")\n",
        "print(f\"MAPE (cross-validation set): {100 * mape(y_cv, cv_preds.values):.2f}%\")\n"
      ],
      "execution_count": 570,
      "outputs": [
        {
          "output_type": "stream",
          "text": [
            "Model: \"sequential\"\n",
            "_________________________________________________________________\n",
            "Layer (type)                 Output Shape              Param #   \n",
            "=================================================================\n",
            "dense (Dense)                (None, 128)               2560      \n",
            "_________________________________________________________________\n",
            "dropout (Dropout)            (None, 128)               0         \n",
            "_________________________________________________________________\n",
            "dense_1 (Dense)              (None, 64)                8256      \n",
            "_________________________________________________________________\n",
            "dropout_1 (Dropout)          (None, 64)                0         \n",
            "_________________________________________________________________\n",
            "dense_2 (Dense)              (None, 16)                1040      \n",
            "_________________________________________________________________\n",
            "dropout_2 (Dropout)          (None, 16)                0         \n",
            "_________________________________________________________________\n",
            "dense_3 (Dense)              (None, 1)                 17        \n",
            "=================================================================\n",
            "Total params: 11,873\n",
            "Trainable params: 11,873\n",
            "Non-trainable params: 0\n",
            "_________________________________________________________________\n",
            "WARNING:tensorflow:Falling back from v2 loop because of error: Failed to find data adapter that can handle input: <class 'pandas.core.frame.DataFrame'>, <class 'NoneType'>\n"
          ],
          "name": "stdout"
        },
        {
          "output_type": "display_data",
          "data": {
            "image/png": "[encoded data removed]",
            "text/plain": [
              "<Figure size 864x432 with 1 Axes>"
            ]
          },
          "metadata": {
            "tags": []
          }
        },
        {
          "output_type": "display_data",
          "data": {
            "image/png": "[encoded data removed]",
            "text/plain": [
              "<Figure size 864x432 with 1 Axes>"
            ]
          },
          "metadata": {
            "tags": []
          }
        },
        {
          "output_type": "stream",
          "text": [
            "WARNING:tensorflow:Falling back from v2 loop because of error: Failed to find data adapter that can handle input: <class 'pandas.core.frame.DataFrame'>, <class 'NoneType'>\n",
            "WARNING:tensorflow:Falling back from v2 loop because of error: Failed to find data adapter that can handle input: <class 'pandas.core.frame.DataFrame'>, <class 'NoneType'>\n",
            "MAPE (training set): 10.79%\n",
            "MAPE (cross-validation set): 5.04%\n"
          ],
          "name": "stdout"
        }
      ]
    },
    {
      "cell_type": "code",
      "metadata": {
        "id": "F2Vf2deWuqL9",
        "colab_type": "code",
        "colab": {}
      },
      "source": [
        "'''\n",
        "plt.semilogx(history.history['lr'], history.history['loss'])\n",
        "plt.axis([1e-4, 1, 0, 2])\n",
        "'''"
      ],
      "execution_count": 0,
      "outputs": []
    },
    {
      "cell_type": "markdown",
      "metadata": {
        "id": "A9slTYYNbdAF",
        "colab_type": "text"
      },
      "source": [
        "Визуализируем предсказания:"
      ]
    },
    {
      "cell_type": "code",
      "metadata": {
        "ExecuteTime": {
          "end_time": "2019-10-14T03:12:29.154283Z",
          "start_time": "2019-10-14T03:12:28.110211Z"
        },
        "colab_type": "code",
        "outputId": "a37ff63c-d15b-467f-f548-80d036df7f71",
        "id": "sOZwIbD-jpAN",
        "colab": {
          "base_uri": "https://localhost:8080/",
          "height": 422
        }
      },
      "source": [
        "print(f\"TR performance: {100 * mape(tr[TARGET], tr_preds):0.1f}%\")\n",
        "print(f\"CV performance: {100 * mape(cv[TARGET], cv_preds):0.1f}%\")\n",
        "\n",
        "plt.figure();\n",
        "tr[TARGET].plot(ax=plt.gca(), label=\"rubber prices\");\n",
        "cv[TARGET].plot(ax=plt.gca(), label=\"rubber prices\");\n",
        "tr_preds.plot(ax=plt.gca(), label=\"TR\");\n",
        "cv_preds.plot(ax=plt.gca(), label=\"CV\");\n",
        "plt.legend(loc=0);\n"
      ],
      "execution_count": 571,
      "outputs": [
        {
          "output_type": "stream",
          "text": [
            "TR performance: 10.8%\n",
            "CV performance: 5.0%\n"
          ],
          "name": "stdout"
        },
        {
          "output_type": "display_data",
          "data": {
            "image/png": "[encoded data removed]",
            "text/plain": [
              "<Figure size 864x432 with 1 Axes>"
            ]
          },
          "metadata": {
            "tags": []
          }
        }
      ]
    },
    {
      "cell_type": "markdown",
      "metadata": {
        "ExecuteTime": {
          "end_time": "2019-10-13T19:31:59.688913Z",
          "start_time": "2019-10-13T19:31:59.672549Z"
        },
        "id": "UjfteKpHbdAI",
        "colab_type": "text"
      },
      "source": [
        "Считаем предсказания для тестового набора:"
      ]
    },
    {
      "cell_type": "code",
      "metadata": {
        "ExecuteTime": {
          "end_time": "2019-10-14T03:12:29.186315Z",
          "start_time": "2019-10-14T03:12:29.160174Z"
        },
        "id": "TncOkAPKbdAJ",
        "colab_type": "code",
        "outputId": "e5df815a-ae4d-4e92-e27d-a141f8b3ba48",
        "colab": {
          "base_uri": "https://localhost:8080/",
          "height": 54
        }
      },
      "source": [
        "tst = (df[FCOLS] - center)/scale\n",
        "\n",
        "ts_preds = model.predict(tst, use_multiprocessing=True) * y_trn.std() + y_trn.mean()\n",
        "ts_preds = pd.DataFrame(ts_preds, columns=[\"rubber\"], index=df.index)\n",
        "ts_preds.loc[test_target.index].to_csv(\"rubber_NN.csv\")"
      ],
      "execution_count": 425,
      "outputs": [
        {
          "output_type": "stream",
          "text": [
            "WARNING:tensorflow:Falling back from v2 loop because of error: Failed to find data adapter that can handle input: <class 'pandas.core.frame.DataFrame'>, <class 'NoneType'>\n"
          ],
          "name": "stdout"
        }
      ]
    },
    {
      "cell_type": "markdown",
      "metadata": {
        "ExecuteTime": {
          "end_time": "2019-10-13T19:31:59.688913Z",
          "start_time": "2019-10-13T19:31:59.672549Z"
        },
        "colab_type": "text",
        "id": "qjT7jk7s6iA8"
      },
      "source": [
        "Визуализируем весь таймфрейм:"
      ]
    },
    {
      "cell_type": "code",
      "metadata": {
        "ExecuteTime": {
          "end_time": "2019-10-14T03:12:29.154283Z",
          "start_time": "2019-10-14T03:12:28.110211Z"
        },
        "colab_type": "code",
        "outputId": "31c160ac-653f-457a-ed17-ab6cb0bb69b9",
        "id": "wQYLo1qi-w7e",
        "colab": {
          "base_uri": "https://localhost:8080/",
          "height": 425
        }
      },
      "source": [
        "tst = (df[FCOLS] - center)/scale\n",
        "\n",
        "ts_preds = model.predict(tst, use_multiprocessing=True) * y_trn.std() + y_trn.mean()\n",
        "ts_preds = pd.DataFrame(ts_preds, columns=[\"rubber\"], index=df.index)\n",
        "\n",
        "plt.rcParams[\"figure.figsize\"] = (12,6)\n",
        "ts_preds.plot();"
      ],
      "execution_count": 572,
      "outputs": [
        {
          "output_type": "stream",
          "text": [
            "WARNING:tensorflow:Falling back from v2 loop because of error: Failed to find data adapter that can handle input: <class 'pandas.core.frame.DataFrame'>, <class 'NoneType'>\n"
          ],
          "name": "stdout"
        },
        {
          "output_type": "display_data",
          "data": {
            "image/png": "[encoded data removed]",
            "text/plain": [
              "<Figure size 864x432 with 1 Axes>"
            ]
          },
          "metadata": {
            "tags": []
          }
        }
      ]
    }
  ]
}